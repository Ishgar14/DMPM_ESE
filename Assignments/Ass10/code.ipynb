{
 "cells": [
  {
   "cell_type": "markdown",
   "metadata": {},
   "source": [
    "# Name: Rushikesh Jyoti\n",
    "# Division: A\n",
    "# Roll no: 27\n",
    "# SRN: 201901139"
   ]
  },
  {
   "cell_type": "code",
   "execution_count": 2,
   "metadata": {},
   "outputs": [
    {
     "name": "stdout",
     "output_type": "stream",
     "text": [
      "Hello\n"
     ]
    }
   ],
   "source": [
    "print(\"Hello\")"
   ]
  },
  {
   "cell_type": "code",
   "execution_count": 33,
   "metadata": {},
   "outputs": [],
   "source": [
    "import pandas as pd\n",
    "import seaborn as sb\n",
    "from matplotlib import pyplot as plot\n",
    "\n",
    "from sklearn.preprocessing import LabelEncoder\n",
    "# from apyori import apriori\n",
    "from efficient_apriori import apriori"
   ]
  },
  {
   "cell_type": "code",
   "execution_count": 34,
   "metadata": {},
   "outputs": [
    {
     "data": {
      "text/html": [
       "<div>\n",
       "<style scoped>\n",
       "    .dataframe tbody tr th:only-of-type {\n",
       "        vertical-align: middle;\n",
       "    }\n",
       "\n",
       "    .dataframe tbody tr th {\n",
       "        vertical-align: top;\n",
       "    }\n",
       "\n",
       "    .dataframe thead th {\n",
       "        text-align: right;\n",
       "    }\n",
       "</style>\n",
       "<table border=\"1\" class=\"dataframe\">\n",
       "  <thead>\n",
       "    <tr style=\"text-align: right;\">\n",
       "      <th></th>\n",
       "      <th>0</th>\n",
       "      <th>1</th>\n",
       "      <th>2</th>\n",
       "      <th>3</th>\n",
       "      <th>4</th>\n",
       "      <th>5</th>\n",
       "      <th>6</th>\n",
       "    </tr>\n",
       "  </thead>\n",
       "  <tbody>\n",
       "    <tr>\n",
       "      <th>0</th>\n",
       "      <td>Bread</td>\n",
       "      <td>Wine</td>\n",
       "      <td>Eggs</td>\n",
       "      <td>Meat</td>\n",
       "      <td>Cheese</td>\n",
       "      <td>Pencil</td>\n",
       "      <td>Diaper</td>\n",
       "    </tr>\n",
       "    <tr>\n",
       "      <th>1</th>\n",
       "      <td>Bread</td>\n",
       "      <td>Cheese</td>\n",
       "      <td>Meat</td>\n",
       "      <td>Diaper</td>\n",
       "      <td>Wine</td>\n",
       "      <td>Milk</td>\n",
       "      <td>Pencil</td>\n",
       "    </tr>\n",
       "    <tr>\n",
       "      <th>2</th>\n",
       "      <td>Cheese</td>\n",
       "      <td>Meat</td>\n",
       "      <td>Eggs</td>\n",
       "      <td>Milk</td>\n",
       "      <td>Wine</td>\n",
       "      <td>NaN</td>\n",
       "      <td>NaN</td>\n",
       "    </tr>\n",
       "    <tr>\n",
       "      <th>3</th>\n",
       "      <td>Cheese</td>\n",
       "      <td>Meat</td>\n",
       "      <td>Eggs</td>\n",
       "      <td>Milk</td>\n",
       "      <td>Wine</td>\n",
       "      <td>NaN</td>\n",
       "      <td>NaN</td>\n",
       "    </tr>\n",
       "    <tr>\n",
       "      <th>4</th>\n",
       "      <td>Meat</td>\n",
       "      <td>Pencil</td>\n",
       "      <td>Wine</td>\n",
       "      <td>NaN</td>\n",
       "      <td>NaN</td>\n",
       "      <td>NaN</td>\n",
       "      <td>NaN</td>\n",
       "    </tr>\n",
       "  </tbody>\n",
       "</table>\n",
       "</div>"
      ],
      "text/plain": [
       "        0       1     2       3       4       5       6\n",
       "0   Bread    Wine  Eggs    Meat  Cheese  Pencil  Diaper\n",
       "1   Bread  Cheese  Meat  Diaper    Wine    Milk  Pencil\n",
       "2  Cheese    Meat  Eggs    Milk    Wine     NaN     NaN\n",
       "3  Cheese    Meat  Eggs    Milk    Wine     NaN     NaN\n",
       "4    Meat  Pencil  Wine     NaN     NaN     NaN     NaN"
      ]
     },
     "execution_count": 34,
     "metadata": {},
     "output_type": "execute_result"
    }
   ],
   "source": [
    "df = pd.read_csv(\"./retail_dataset.csv\")\n",
    "encoder = LabelEncoder()\n",
    "\n",
    "df.head()"
   ]
  },
  {
   "cell_type": "code",
   "execution_count": 35,
   "metadata": {},
   "outputs": [
    {
     "data": {
      "text/html": [
       "<div>\n",
       "<style scoped>\n",
       "    .dataframe tbody tr th:only-of-type {\n",
       "        vertical-align: middle;\n",
       "    }\n",
       "\n",
       "    .dataframe tbody tr th {\n",
       "        vertical-align: top;\n",
       "    }\n",
       "\n",
       "    .dataframe thead th {\n",
       "        text-align: right;\n",
       "    }\n",
       "</style>\n",
       "<table border=\"1\" class=\"dataframe\">\n",
       "  <thead>\n",
       "    <tr style=\"text-align: right;\">\n",
       "      <th></th>\n",
       "      <th>0</th>\n",
       "      <th>1</th>\n",
       "      <th>2</th>\n",
       "      <th>3</th>\n",
       "      <th>4</th>\n",
       "      <th>5</th>\n",
       "      <th>6</th>\n",
       "    </tr>\n",
       "  </thead>\n",
       "  <tbody>\n",
       "    <tr>\n",
       "      <th>0</th>\n",
       "      <td>Bread</td>\n",
       "      <td>Wine</td>\n",
       "      <td>Eggs</td>\n",
       "      <td>Meat</td>\n",
       "      <td>Cheese</td>\n",
       "      <td>Pencil</td>\n",
       "      <td>Diaper</td>\n",
       "    </tr>\n",
       "    <tr>\n",
       "      <th>1</th>\n",
       "      <td>Bread</td>\n",
       "      <td>Cheese</td>\n",
       "      <td>Meat</td>\n",
       "      <td>Diaper</td>\n",
       "      <td>Wine</td>\n",
       "      <td>Milk</td>\n",
       "      <td>Pencil</td>\n",
       "    </tr>\n",
       "    <tr>\n",
       "      <th>2</th>\n",
       "      <td>Cheese</td>\n",
       "      <td>Meat</td>\n",
       "      <td>Eggs</td>\n",
       "      <td>Milk</td>\n",
       "      <td>Wine</td>\n",
       "      <td>NaN</td>\n",
       "      <td>NaN</td>\n",
       "    </tr>\n",
       "    <tr>\n",
       "      <th>3</th>\n",
       "      <td>Cheese</td>\n",
       "      <td>Meat</td>\n",
       "      <td>Eggs</td>\n",
       "      <td>Milk</td>\n",
       "      <td>Wine</td>\n",
       "      <td>NaN</td>\n",
       "      <td>NaN</td>\n",
       "    </tr>\n",
       "    <tr>\n",
       "      <th>4</th>\n",
       "      <td>Meat</td>\n",
       "      <td>Pencil</td>\n",
       "      <td>Wine</td>\n",
       "      <td>NaN</td>\n",
       "      <td>NaN</td>\n",
       "      <td>NaN</td>\n",
       "      <td>NaN</td>\n",
       "    </tr>\n",
       "  </tbody>\n",
       "</table>\n",
       "</div>"
      ],
      "text/plain": [
       "        0       1     2       3       4       5       6\n",
       "0   Bread    Wine  Eggs    Meat  Cheese  Pencil  Diaper\n",
       "1   Bread  Cheese  Meat  Diaper    Wine    Milk  Pencil\n",
       "2  Cheese    Meat  Eggs    Milk    Wine     NaN     NaN\n",
       "3  Cheese    Meat  Eggs    Milk    Wine     NaN     NaN\n",
       "4    Meat  Pencil  Wine     NaN     NaN     NaN     NaN"
      ]
     },
     "execution_count": 35,
     "metadata": {},
     "output_type": "execute_result"
    }
   ],
   "source": [
    "for col in df.columns:\n",
    "    # df[col] = encoder.fit_transform(df[col])\n",
    "    pass\n",
    "\n",
    "df.head()"
   ]
  },
  {
   "cell_type": "code",
   "execution_count": 36,
   "metadata": {},
   "outputs": [],
   "source": [
    "txns2 = df.stack().groupby(level=0).apply(list).tolist()\n"
   ]
  },
  {
   "cell_type": "markdown",
   "metadata": {},
   "source": [
    "# Support 1% and Confidence 30%"
   ]
  },
  {
   "cell_type": "code",
   "execution_count": 37,
   "metadata": {},
   "outputs": [
    {
     "name": "stdout",
     "output_type": "stream",
     "text": [
      "Generating itemsets.\n",
      " Counting itemsets of length 1.\n",
      "  Found 9 candidate itemsets of length 1.\n",
      "  Found 9 large itemsets of length 1.\n",
      " Counting itemsets of length 2.\n",
      "  Found 36 candidate itemsets of length 2.\n",
      "  Found 36 large itemsets of length 2.\n",
      " Counting itemsets of length 3.\n",
      "  Found 84 candidate itemsets of length 3.\n",
      "  Found 84 large itemsets of length 3.\n",
      " Counting itemsets of length 4.\n",
      "  Found 126 candidate itemsets of length 4.\n",
      "  Found 126 large itemsets of length 4.\n",
      " Counting itemsets of length 5.\n",
      "  Found 126 candidate itemsets of length 5.\n",
      "  Found 120 large itemsets of length 5.\n",
      " Counting itemsets of length 6.\n",
      "  Found 69 candidate itemsets of length 6.\n",
      "  Found 45 large itemsets of length 6.\n",
      " Counting itemsets of length 7.\n",
      "  Found 4 candidate itemsets of length 7.\n",
      "  Found 2 large itemsets of length 7.\n",
      " Counting itemsets of length 8.\n",
      "  Found 0 candidate itemsets of length 8.\n",
      "Itemset generation terminated.\n",
      "\n",
      "Generating rules from itemsets.\n",
      " Generating rules of size 2.\n",
      " Generating rules of size 3.\n",
      " Generating rules of size 4.\n",
      " Generating rules of size 5.\n",
      " Generating rules of size 6.\n",
      " Generating rules of size 7.\n",
      "Rule generation terminated.\n",
      "\n"
     ]
    }
   ],
   "source": [
    "itemsets, rules = apriori(txns2, min_support=0.01, min_confidence=0.3, verbosity=1)\n"
   ]
  },
  {
   "cell_type": "code",
   "execution_count": 38,
   "metadata": {},
   "outputs": [
    {
     "name": "stdout",
     "output_type": "stream",
     "text": [
      "{Diaper, Eggs, Meat, Pencil} -> {Bagel, Cheese, Wine} (conf: 0.364, supp: 0.013, lift: 3.369, conv: 1.402)\n",
      "{Cheese, Diaper, Eggs, Meat, Pencil} -> {Bagel, Wine} (conf: 0.571, supp: 0.013, lift: 3.333, conv: 1.933)\n",
      "{Meat, Milk, Pencil} -> {Bread, Cheese, Wine} (conf: 0.400, supp: 0.032, lift: 2.800, conv: 1.429)\n",
      "{Cheese, Meat, Milk, Pencil} -> {Bread, Eggs, Wine} (conf: 0.333, supp: 0.016, lift: 2.763, conv: 1.319)\n",
      "{Bagel, Cheese, Meat, Pencil, Wine} -> {Diaper, Eggs} (conf: 0.444, supp: 0.013, lift: 2.745, conv: 1.509)\n",
      "There are 2681 rules\n"
     ]
    }
   ],
   "source": [
    "for item in sorted(rules, key=lambda item: (item.lift), reverse=True)[:5]:\n",
    "#  print(f\"{item.lhs} -> {item.rhs}\")\n",
    "    print(item)\n",
    "\n",
    "print(f\"There are {len(rules)} rules\") "
   ]
  },
  {
   "cell_type": "markdown",
   "metadata": {},
   "source": [
    "# Support 2% and Confidence 40%"
   ]
  },
  {
   "cell_type": "code",
   "execution_count": 39,
   "metadata": {},
   "outputs": [
    {
     "name": "stdout",
     "output_type": "stream",
     "text": [
      "Generating itemsets.\n",
      " Counting itemsets of length 1.\n",
      "  Found 9 candidate itemsets of length 1.\n",
      "  Found 9 large itemsets of length 1.\n",
      " Counting itemsets of length 2.\n",
      "  Found 36 candidate itemsets of length 2.\n",
      "  Found 36 large itemsets of length 2.\n",
      " Counting itemsets of length 3.\n",
      "  Found 84 candidate itemsets of length 3.\n",
      "  Found 84 large itemsets of length 3.\n",
      " Counting itemsets of length 4.\n",
      "  Found 126 candidate itemsets of length 4.\n",
      "  Found 126 large itemsets of length 4.\n",
      " Counting itemsets of length 5.\n",
      "  Found 126 candidate itemsets of length 5.\n",
      "  Found 95 large itemsets of length 5.\n",
      " Counting itemsets of length 6.\n",
      "  Found 27 candidate itemsets of length 6.\n",
      "  Found 10 large itemsets of length 6.\n",
      " Counting itemsets of length 7.\n",
      "  Found 0 candidate itemsets of length 7.\n",
      "Itemset generation terminated.\n",
      "\n",
      "Generating rules from itemsets.\n",
      " Generating rules of size 2.\n",
      " Generating rules of size 3.\n",
      " Generating rules of size 4.\n",
      " Generating rules of size 5.\n",
      " Generating rules of size 6.\n",
      "Rule generation terminated.\n",
      "\n"
     ]
    }
   ],
   "source": [
    "itemsets2, rules2 = apriori(txns2, min_support=0.02, min_confidence=0.4, verbosity=1)\n"
   ]
  },
  {
   "cell_type": "code",
   "execution_count": 40,
   "metadata": {},
   "outputs": [
    {
     "name": "stdout",
     "output_type": "stream",
     "text": [
      "{Meat, Milk, Pencil} -> {Bread, Cheese, Wine} (conf: 0.400, supp: 0.032, lift: 2.800, conv: 1.429)\n",
      "{Cheese, Meat, Milk, Pencil} -> {Bread, Wine} (conf: 0.667, supp: 0.032, lift: 2.727, conv: 2.267)\n",
      "{Meat, Milk, Pencil, Wine} -> {Bread, Cheese} (conf: 0.625, supp: 0.032, lift: 2.625, conv: 2.032)\n",
      "{Milk, Pencil, Wine} -> {Bread, Eggs} (conf: 0.467, supp: 0.044, lift: 2.492, conv: 1.524)\n",
      "{Cheese, Meat, Milk, Pencil} -> {Bread, Eggs} (conf: 0.467, supp: 0.022, lift: 2.492, conv: 1.524)\n",
      "There are 1361 rules\n"
     ]
    }
   ],
   "source": [
    "for item in sorted(rules2, key=lambda item: (item.lift), reverse=True)[:5]:\n",
    "#  print(f\"{item.lhs} -> {item.rhs}\")\n",
    "    print(item)\n",
    "\n",
    "print(f\"There are {len(rules2)} rules\") "
   ]
  },
  {
   "cell_type": "markdown",
   "metadata": {},
   "source": [
    "# Support 3% and Confidence 50%"
   ]
  },
  {
   "cell_type": "code",
   "execution_count": 41,
   "metadata": {},
   "outputs": [
    {
     "name": "stdout",
     "output_type": "stream",
     "text": [
      "Generating itemsets.\n",
      " Counting itemsets of length 1.\n",
      "  Found 9 candidate itemsets of length 1.\n",
      "  Found 9 large itemsets of length 1.\n",
      " Counting itemsets of length 2.\n",
      "  Found 36 candidate itemsets of length 2.\n",
      "  Found 36 large itemsets of length 2.\n",
      " Counting itemsets of length 3.\n",
      "  Found 84 candidate itemsets of length 3.\n",
      "  Found 84 large itemsets of length 3.\n",
      " Counting itemsets of length 4.\n",
      "  Found 126 candidate itemsets of length 4.\n",
      "  Found 123 large itemsets of length 4.\n",
      " Counting itemsets of length 5.\n",
      "  Found 113 candidate itemsets of length 5.\n",
      "  Found 48 large itemsets of length 5.\n",
      " Counting itemsets of length 6.\n",
      "  Found 7 candidate itemsets of length 6.\n",
      "  Found 1 large itemsets of length 6.\n",
      " Counting itemsets of length 7.\n",
      "  Found 0 candidate itemsets of length 7.\n",
      "Itemset generation terminated.\n",
      "\n",
      "Generating rules from itemsets.\n",
      " Generating rules of size 2.\n",
      " Generating rules of size 3.\n",
      " Generating rules of size 4.\n",
      " Generating rules of size 5.\n",
      " Generating rules of size 6.\n",
      "Rule generation terminated.\n",
      "\n"
     ]
    }
   ],
   "source": [
    "itemsets3, rules3 = apriori(txns2, min_support=0.03, min_confidence=0.5, verbosity=1)\n"
   ]
  },
  {
   "cell_type": "code",
   "execution_count": 42,
   "metadata": {},
   "outputs": [
    {
     "name": "stdout",
     "output_type": "stream",
     "text": [
      "{Cheese, Meat, Milk, Pencil} -> {Bread, Wine} (conf: 0.667, supp: 0.032, lift: 2.727, conv: 2.267)\n",
      "{Meat, Milk, Pencil, Wine} -> {Bread, Cheese} (conf: 0.625, supp: 0.032, lift: 2.625, conv: 2.032)\n",
      "{Cheese, Milk, Pencil, Wine} -> {Bread, Meat} (conf: 0.500, supp: 0.032, lift: 2.423, conv: 1.587)\n",
      "{Diaper, Meat, Milk} -> {Bread, Cheese} (conf: 0.550, supp: 0.035, lift: 2.310, conv: 1.693)\n",
      "{Meat, Milk, Pencil} -> {Bread, Wine} (conf: 0.560, supp: 0.044, lift: 2.291, conv: 1.717)\n"
     ]
    },
    {
     "data": {
      "text/plain": [
       "693"
      ]
     },
     "execution_count": 42,
     "metadata": {},
     "output_type": "execute_result"
    }
   ],
   "source": [
    "for item in sorted(rules3, key=lambda item: (item.lift), reverse=True)[:5]:\n",
    " print(item)\n",
    "len(rules3)"
   ]
  },
  {
   "cell_type": "markdown",
   "metadata": {},
   "source": [
    "## Collect the lift, confidence, lhs and rhs to draw plots"
   ]
  },
  {
   "cell_type": "code",
   "execution_count": 43,
   "metadata": {},
   "outputs": [
    {
     "name": "stderr",
     "output_type": "stream",
     "text": [
      "C:\\Users\\Rushikesh\\AppData\\Local\\Programs\\Python\\Python39\\lib\\site-packages\\numpy\\core\\_asarray.py:102: VisibleDeprecationWarning: Creating an ndarray from ragged nested sequences (which is a list-or-tuple of lists-or-tuples-or ndarrays with different lengths or shapes) is deprecated. If you meant to do this, you must specify 'dtype=object' when creating the ndarray.\n",
      "  return array(a, dtype, copy=False, order=order)\n"
     ]
    }
   ],
   "source": [
    "parameters = {\n",
    "    'Rules': [],\n",
    "    'Item1': [],\n",
    "    'Item2': [],\n",
    "    'Confidence': [],\n",
    "    'Support': [],\n",
    "    'Lift': []\n",
    "}\n",
    "\n",
    "data = pd.DataFrame(parameters)\n",
    "temp_rules = sorted(rules, key=lambda item: (item.lift, item.conviction), reverse=True)\n",
    "\n",
    "for item in temp_rules:\n",
    "    data.loc[len(data.index)] = [(item.lhs+item.rhs), item.lhs,\n",
    "                                 item.rhs, item.confidence, item.support, item.lift]\n"
   ]
  },
  {
   "cell_type": "code",
   "execution_count": 48,
   "metadata": {},
   "outputs": [
    {
     "data": {
      "text/html": [
       "<div>\n",
       "<style scoped>\n",
       "    .dataframe tbody tr th:only-of-type {\n",
       "        vertical-align: middle;\n",
       "    }\n",
       "\n",
       "    .dataframe tbody tr th {\n",
       "        vertical-align: top;\n",
       "    }\n",
       "\n",
       "    .dataframe thead th {\n",
       "        text-align: right;\n",
       "    }\n",
       "</style>\n",
       "<table border=\"1\" class=\"dataframe\">\n",
       "  <thead>\n",
       "    <tr style=\"text-align: right;\">\n",
       "      <th></th>\n",
       "      <th>Rules</th>\n",
       "      <th>Item1</th>\n",
       "      <th>Item2</th>\n",
       "      <th>Confidence</th>\n",
       "      <th>Support</th>\n",
       "      <th>Lift</th>\n",
       "    </tr>\n",
       "  </thead>\n",
       "  <tbody>\n",
       "    <tr>\n",
       "      <th>0</th>\n",
       "      <td>(Diaper, Eggs, Meat, Pencil, Bagel, Cheese, Wine)</td>\n",
       "      <td>(Diaper, Eggs, Meat, Pencil)</td>\n",
       "      <td>(Bagel, Cheese, Wine)</td>\n",
       "      <td>0.363636</td>\n",
       "      <td>0.012698</td>\n",
       "      <td>3.368984</td>\n",
       "    </tr>\n",
       "    <tr>\n",
       "      <th>1</th>\n",
       "      <td>(Cheese, Diaper, Eggs, Meat, Pencil, Bagel, Wine)</td>\n",
       "      <td>(Cheese, Diaper, Eggs, Meat, Pencil)</td>\n",
       "      <td>(Bagel, Wine)</td>\n",
       "      <td>0.571429</td>\n",
       "      <td>0.012698</td>\n",
       "      <td>3.333333</td>\n",
       "    </tr>\n",
       "    <tr>\n",
       "      <th>2</th>\n",
       "      <td>(Meat, Milk, Pencil, Bread, Cheese, Wine)</td>\n",
       "      <td>(Meat, Milk, Pencil)</td>\n",
       "      <td>(Bread, Cheese, Wine)</td>\n",
       "      <td>0.400000</td>\n",
       "      <td>0.031746</td>\n",
       "      <td>2.800000</td>\n",
       "    </tr>\n",
       "    <tr>\n",
       "      <th>3</th>\n",
       "      <td>(Cheese, Meat, Milk, Pencil, Bread, Eggs, Wine)</td>\n",
       "      <td>(Cheese, Meat, Milk, Pencil)</td>\n",
       "      <td>(Bread, Eggs, Wine)</td>\n",
       "      <td>0.333333</td>\n",
       "      <td>0.015873</td>\n",
       "      <td>2.763158</td>\n",
       "    </tr>\n",
       "    <tr>\n",
       "      <th>4</th>\n",
       "      <td>(Bagel, Cheese, Meat, Pencil, Wine, Diaper, Eggs)</td>\n",
       "      <td>(Bagel, Cheese, Meat, Pencil, Wine)</td>\n",
       "      <td>(Diaper, Eggs)</td>\n",
       "      <td>0.444444</td>\n",
       "      <td>0.012698</td>\n",
       "      <td>2.745098</td>\n",
       "    </tr>\n",
       "  </tbody>\n",
       "</table>\n",
       "</div>"
      ],
      "text/plain": [
       "                                               Rules  \\\n",
       "0  (Diaper, Eggs, Meat, Pencil, Bagel, Cheese, Wine)   \n",
       "1  (Cheese, Diaper, Eggs, Meat, Pencil, Bagel, Wine)   \n",
       "2          (Meat, Milk, Pencil, Bread, Cheese, Wine)   \n",
       "3    (Cheese, Meat, Milk, Pencil, Bread, Eggs, Wine)   \n",
       "4  (Bagel, Cheese, Meat, Pencil, Wine, Diaper, Eggs)   \n",
       "\n",
       "                                  Item1                  Item2  Confidence  \\\n",
       "0          (Diaper, Eggs, Meat, Pencil)  (Bagel, Cheese, Wine)    0.363636   \n",
       "1  (Cheese, Diaper, Eggs, Meat, Pencil)          (Bagel, Wine)    0.571429   \n",
       "2                  (Meat, Milk, Pencil)  (Bread, Cheese, Wine)    0.400000   \n",
       "3          (Cheese, Meat, Milk, Pencil)    (Bread, Eggs, Wine)    0.333333   \n",
       "4   (Bagel, Cheese, Meat, Pencil, Wine)         (Diaper, Eggs)    0.444444   \n",
       "\n",
       "    Support      Lift  \n",
       "0  0.012698  3.368984  \n",
       "1  0.012698  3.333333  \n",
       "2  0.031746  2.800000  \n",
       "3  0.015873  2.763158  \n",
       "4  0.012698  2.745098  "
      ]
     },
     "execution_count": 48,
     "metadata": {},
     "output_type": "execute_result"
    }
   ],
   "source": [
    "data.head()"
   ]
  },
  {
   "cell_type": "code",
   "execution_count": 52,
   "metadata": {},
   "outputs": [
    {
     "data": {
      "text/plain": [
       "<AxesSubplot:xlabel='Confidence', ylabel='Lift'>"
      ]
     },
     "execution_count": 52,
     "metadata": {},
     "output_type": "execute_result"
    },
    {
     "data": {
      "image/png": "[encoded data removed]",
      "text/plain": [
       "<Figure size 1080x504 with 1 Axes>"
      ]
     },
     "metadata": {
      "needs_background": "light"
     },
     "output_type": "display_data"
    }
   ],
   "source": [
    "plot.figure(1, (15, 7))\n",
    "sb.scatterplot(data=data, x='Confidence', y='Lift')"
   ]
  }
 ],
 "metadata": {
  "interpreter": {
   "hash": "f7fae633d0680e510f3a960f700add54c5f8ff48093719b3eea0bb1a9a4a4e89"
  },
  "kernelspec": {
   "display_name": "Python 3.9.7 64-bit",
   "language": "python",
   "name": "python3"
  },
  "language_info": {
   "codemirror_mode": {
    "name": "ipython",
    "version": 3
   },
   "file_extension": ".py",
   "mimetype": "text/x-python",
   "name": "python",
   "nbconvert_exporter": "python",
   "pygments_lexer": "ipython3",
   "version": "3.9.7"
  },
  "orig_nbformat": 4
 },
 "nbformat": 4,
 "nbformat_minor": 2
}
